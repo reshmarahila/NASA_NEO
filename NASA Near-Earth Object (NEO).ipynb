{
 "cells": [
  {
   "cell_type": "code",
   "execution_count": 139,
   "id": "02ca1f4a-a515-4eb8-a67e-dbcfb8ba0fb3",
   "metadata": {},
   "outputs": [],
   "source": [
    "import requests\n",
    "\n",
    "Api_key = \"bbuUFrmvBachgADcHjZRxT8Bq2G4j46E8dFbWNgI\"\n",
    "\n",
    "asteroids_data = []\n",
    "target = 10000\n",
    "url = f\"https://api.nasa.gov/neo/rest/v1/feed?start_date=2025-01-01&end_date=2025-01-07&api_key={Api_key}\"\n",
    "tab1 = []\n",
    "tab2 = []\n",
    "while len(asteroids_data) < target:\n",
    "    response = requests.get(url)\n",
    "    data = response.json() #json format data as response\n",
    "    details = data['near_earth_objects']\n",
    "    for date,info in details.items():\n",
    "      for i in info:\n",
    "        asteroids_data.append(dict(id = i['id'], #neo_reference_id same as id\n",
    "        name = i['name'],\n",
    "        mag= float(i['absolute_magnitude_h']),\n",
    "        dia_min = float(i['estimated_diameter']['kilometers']['estimated_diameter_min']),\n",
    "        dia_max = float(i['estimated_diameter']['kilometers']['estimated_diameter_max']),\n",
    "        hazard = bool(i['is_potentially_hazardous_asteroid']),\n",
    "        date =  (i['close_approach_data'][0]['close_approach_date']),\n",
    "        velocity = float(i['close_approach_data'][0]['relative_velocity']['kilometers_per_hour']),\n",
    "        astronomical = float(i['close_approach_data'][0]['miss_distance']['astronomical']),\n",
    "        missed_dist_kilo = float(i['close_approach_data'][0]['miss_distance']['kilometers']),                   \n",
    "        lunar_dist =  float(i['close_approach_data'][0]['miss_distance']['lunar']),\n",
    "        orbiting_body = (i['close_approach_data'][0]['orbiting_body'])\n",
    "        ))\n",
    "\n",
    "        tab1.append((\n",
    "         i['id'], #neo_reference_id same as id\n",
    "         i['name'],\n",
    "         float(i['absolute_magnitude_h']),\n",
    "         float(i['estimated_diameter']['kilometers']['estimated_diameter_min']),\n",
    "         float(i['estimated_diameter']['kilometers']['estimated_diameter_max']),\n",
    "         bool(i['is_potentially_hazardous_asteroid'])\n",
    "         \n",
    "        ))\n",
    "\n",
    "        tab2.append((\n",
    "         i['id'], #neo_reference_id same as id\n",
    "         (i['close_approach_data'][0]['close_approach_date']),\n",
    "         float(i['close_approach_data'][0]['relative_velocity']['kilometers_per_hour']),\n",
    "         float(i['close_approach_data'][0]['miss_distance']['astronomical']),\n",
    "         float(i['close_approach_data'][0]['miss_distance']['kilometers']),                   \n",
    "         float(i['close_approach_data'][0]['miss_distance']['lunar']),\n",
    "         (i['close_approach_data'][0]['orbiting_body'])\n",
    "        ))\n",
    "          \n",
    "        if len(asteroids_data) >= target:\n",
    "            break\n",
    "      if len(asteroids_data) >= target:\n",
    "          break\n",
    "\n",
    "url = data['links']['next']"
   ]
  },
  {
   "cell_type": "code",
   "execution_count": 141,
   "id": "28e98ec8-2fb9-40d5-a4b3-212b6abd5606",
   "metadata": {},
   "outputs": [
    {
     "data": {
      "text/plain": [
       "10000"
      ]
     },
     "execution_count": 141,
     "metadata": {},
     "output_type": "execute_result"
    }
   ],
   "source": [
    "len(asteroids_data)"
   ]
  },
  {
   "cell_type": "code",
   "execution_count": 61,
   "id": "204f6663-c6d6-47f5-a049-6d1c4a54e7f3",
   "metadata": {},
   "outputs": [
    {
     "name": "stdout",
     "output_type": "stream",
     "text": [
      "Collecting pymysql\n",
      "  Downloading PyMySQL-1.1.1-py3-none-any.whl.metadata (4.4 kB)\n",
      "Downloading PyMySQL-1.1.1-py3-none-any.whl (44 kB)\n",
      "Installing collected packages: pymysql\n",
      "Successfully installed pymysql-1.1.1\n"
     ]
    }
   ],
   "source": [
    "!pip install pymysql"
   ]
  },
  {
   "cell_type": "code",
   "execution_count": 124,
   "id": "7d4dfa33-38b2-4e95-9f93-0cb0b6163ed5",
   "metadata": {},
   "outputs": [],
   "source": [
    "import pymysql"
   ]
  },
  {
   "cell_type": "code",
   "execution_count": 126,
   "id": "0c936f6d-3e90-4199-8516-035c1efbc777",
   "metadata": {},
   "outputs": [],
   "source": [
    "connection = pymysql.connect(\n",
    "\n",
    "                            host = \"localhost\", # IP address of your server\n",
    "                            user = \"rahila\",\n",
    "                            password = \"12345\",\n",
    "                            database = \"asteriod\"\n",
    "                           \n",
    "                    )\n",
    "cursor = connection.cursor()"
   ]
  },
  {
   "cell_type": "code",
   "execution_count": 128,
   "id": "971bc653-70a3-4892-9a24-7d4906494023",
   "metadata": {},
   "outputs": [
    {
     "data": {
      "text/plain": [
       "<pymysql.connections.Connection at 0x18eefea3620>"
      ]
     },
     "execution_count": 128,
     "metadata": {},
     "output_type": "execute_result"
    }
   ],
   "source": [
    "connection"
   ]
  },
  {
   "cell_type": "code",
   "execution_count": 130,
   "id": "56104e0d-d84b-4f45-b103-3432b410dbfb",
   "metadata": {},
   "outputs": [
    {
     "data": {
      "text/plain": [
       "0"
      ]
     },
     "execution_count": 130,
     "metadata": {},
     "output_type": "execute_result"
    }
   ],
   "source": [
    "cursor.execute(\"\"\"create table asteroids \n",
    "                (id INT, \n",
    "                name varchar(300), \n",
    "                absolute_magnitude_h FLOAT, \n",
    "                estimated_diameter_min_km FLOAT, \n",
    "                estimated_diameter_max_km FLOAT,\n",
    "                is_potentially_hazardous_asteroid BOOL);\"\"\")"
   ]
  },
  {
   "cell_type": "code",
   "execution_count": 132,
   "id": "a124d563-4a1f-47fb-b418-7ca99c1a4aeb",
   "metadata": {},
   "outputs": [
    {
     "data": {
      "text/plain": [
       "0"
      ]
     },
     "execution_count": 132,
     "metadata": {},
     "output_type": "execute_result"
    }
   ],
   "source": [
    "cursor.execute(\"\"\"create table close_approach \n",
    "                (id INT, \n",
    "                close_approach_date DATE, \n",
    "                relative_velocity_kmph FLOAT, \n",
    "                astronomical FLOAT, \n",
    "                miss_distance_km FLOAT,\n",
    "                miss_distance_lunar FLOAT,\n",
    "                orbiting_body varchar(300));\"\"\")"
   ]
  },
  {
   "cell_type": "code",
   "execution_count": 134,
   "id": "a8a4e2df-d7e1-41e4-a5cd-41913c891f0b",
   "metadata": {},
   "outputs": [],
   "source": [
    "insert = \"\"\"\n",
    "insert into asteroids\n",
    "values\n",
    "(%s, %s, %s, %s, %s, %s)\n",
    "\"\"\"\n",
    "\n",
    "cursor.executemany(insert,tab1)\n",
    "\n",
    "connection.commit()"
   ]
  },
  {
   "cell_type": "code",
   "execution_count": 136,
   "id": "ccccbca1-c072-42c7-8d93-e9515b35d6f7",
   "metadata": {},
   "outputs": [],
   "source": [
    "insert = \"\"\"\n",
    "insert into close_approach\n",
    "values\n",
    "(%s, %s, %s, %s, %s, %s, %s)\n",
    "\"\"\"\n",
    "\n",
    "cursor.executemany(insert,tab2)\n",
    "\n",
    "connection.commit()"
   ]
  },
  {
   "cell_type": "code",
   "execution_count": null,
   "id": "2d44d825-b06e-46c9-acf9-9856f0019ec1",
   "metadata": {},
   "outputs": [],
   "source": []
  }
 ],
 "metadata": {
  "kernelspec": {
   "display_name": "Python [conda env:base] *",
   "language": "python",
   "name": "conda-base-py"
  },
  "language_info": {
   "codemirror_mode": {
    "name": "ipython",
    "version": 3
   },
   "file_extension": ".py",
   "mimetype": "text/x-python",
   "name": "python",
   "nbconvert_exporter": "python",
   "pygments_lexer": "ipython3",
   "version": "3.12.7"
  }
 },
 "nbformat": 4,
 "nbformat_minor": 5
}
